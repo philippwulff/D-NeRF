{
 "cells": [
  {
   "cell_type": "code",
   "execution_count": 1,
   "metadata": {},
   "outputs": [],
   "source": [
    "import math\n",
    "import torch\n",
    "import torch.nn as nn\n",
    "import torch.nn.functional as F\n",
    "import lpips\n",
    "import os\n",
    "import imageio\n",
    "import numpy as np\n",
    "\n",
    "from utils import MSE, PSNR, SSIM, LPIPS"
   ]
  },
  {
   "cell_type": "code",
   "execution_count": 6,
   "metadata": {},
   "outputs": [],
   "source": [
    "def read_images_in_dir(imgs_dir):\n",
    "    imgs = []\n",
    "    fnames = os.listdir(imgs_dir)\n",
    "    fnames.sort()\n",
    "    for fname in fnames:\n",
    "        if fname == \"000.png\" :  # ignore canonical space, only evalute real scene\n",
    "            continue\n",
    "            \n",
    "        img_path = os.path.join(imgs_dir, fname)\n",
    "        img = imageio.imread(img_path)\n",
    "        img = (np.array(img) / 255.).astype(np.float32)\n",
    "        img = np.transpose(img, (2, 0, 1))\n",
    "        imgs.append(img)\n",
    "    \n",
    "    imgs = np.stack(imgs)       \n",
    "    return imgs\n",
    "\n",
    "def estim_error(estim, gt):\n",
    "    errors = dict()\n",
    "    metric = MSE()\n",
    "    errors[\"mse\"] = metric(estim, gt).item()\n",
    "    metric = PSNR()\n",
    "    errors[\"psnr\"] = metric(estim, gt).item()\n",
    "    metric = SSIM()\n",
    "    errors[\"ssim\"] = metric(estim, gt).item()\n",
    "    metric = LPIPS()\n",
    "    errors[\"lpips\"] = metric(estim, gt).item()\n",
    "    return errors\n",
    "\n",
    "def save_error(errors, save_dir):\n",
    "    save_path = os.path.join(save_dir, \"metrics.txt\")\n",
    "    f = open(save_path,\"w\")\n",
    "    f.write( str(errors) )\n",
    "    f.close()"
   ]
  },
  {
   "cell_type": "code",
   "execution_count": 7,
   "metadata": {
    "pycharm": {
     "name": "#%%\n"
    }
   },
   "outputs": [
    {
     "name": "stdout",
     "output_type": "stream",
     "text": [
      "Setting up [LPIPS] perceptual loss: trunk [vgg], v[0.1], spatial [off]\n"
     ]
    },
    {
     "name": "stderr",
     "output_type": "stream",
     "text": [
      "Downloading: \"https://download.pytorch.org/models/vgg16-397923af.pth\" to /home/kirwul/.cache/torch/hub/checkpoints/vgg16-397923af.pth\n"
     ]
    },
    {
     "data": {
      "application/vnd.jupyter.widget-view+json": {
       "model_id": "5911f50a5e194c81bc9ff908858ccc95",
       "version_major": 2,
       "version_minor": 0
      },
      "text/plain": [
       "  0%|          | 0.00/528M [00:00<?, ?B/s]"
      ]
     },
     "metadata": {},
     "output_type": "display_data"
    },
    {
     "name": "stdout",
     "output_type": "stream",
     "text": [
      "Loading model from: /home/kirwul/miniconda3/envs/dnerf/lib/python3.6/site-packages/lpips/weights/v0.1/vgg.pth\n",
      "{'mse': 0.0061406465247273445, 'psnr': 22.117860794067383, 'ssim': 0.8526564836502075, 'lpips': 0.167771115899086}\n"
     ]
    }
   ],
   "source": [
    "files_dir = \"./logs/lego/renderonly_test_799999/\"\n",
    "\n",
    "estim_dir = os.path.join(files_dir, \"estim\")\n",
    "gt_dir = os.path.join(files_dir, \"gt\")\n",
    "\n",
    "estim = read_images_in_dir(estim_dir)\n",
    "gt = read_images_in_dir(gt_dir)\n",
    "\n",
    "estim = torch.Tensor(estim).cuda()\n",
    "gt = torch.Tensor(gt).cuda()\n",
    "\n",
    "errors = estim_error(estim, gt)\n",
    "save_error(errors, files_dir)\n",
    "print(errors)"
   ]
  }
 ],
 "metadata": {
  "interpreter": {
   "hash": "3375aac2d6777cb84d1d1187d84adfa1daed36a55c3a38ea8e593c91ac430390"
  },
  "kernelspec": {
   "display_name": "Python 3.6.13 ('dnerf')",
   "language": "python",
   "name": "python3"
  },
  "language_info": {
   "codemirror_mode": {
    "name": "ipython",
    "version": 3
   },
   "file_extension": ".py",
   "mimetype": "text/x-python",
   "name": "python",
   "nbconvert_exporter": "python",
   "pygments_lexer": "ipython3",
   "version": "3.6.13"
  }
 },
 "nbformat": 4,
 "nbformat_minor": 4
}
